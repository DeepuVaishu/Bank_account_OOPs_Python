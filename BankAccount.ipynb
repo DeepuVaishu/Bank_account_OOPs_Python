{
 "cells": [
  {
   "cell_type": "code",
   "execution_count": null,
   "id": "5565ec43-7b3d-484c-9e2b-cf84b8a74d91",
   "metadata": {},
   "outputs": [],
   "source": [
    "\"\"\"Write a python program to replicate a Banking system. The following features are mandatory:\n",
    "1. Account login\n",
    "2. Amount Depositing\n",
    "3. Amount Withdrawal\n",
    "Other than the above features you can add any other also\"\"\""
   ]
  },
  {
   "cell_type": "code",
   "execution_count": 3,
   "id": "fdf43f1b-72a4-4205-8847-5dd85ed2dc1d",
   "metadata": {},
   "outputs": [
    {
     "name": "stdout",
     "output_type": "stream",
     "text": [
      "Welcome to Oops Banking system\n",
      "1. Create an account\n",
      "2. Login to existing accont\n",
      "3. Exit\n"
     ]
    },
    {
     "name": "stdin",
     "output_type": "stream",
     "text": [
      "Enter your choice:  1\n",
      "Create your user_id:  deepu\n",
      "Create a password:  1234\n",
      "Enter initial deposit (optional, default is 0):  50000\n"
     ]
    },
    {
     "name": "stdout",
     "output_type": "stream",
     "text": [
      "Account created successfully for deepu!\n",
      "Welcome to Oops Banking system\n",
      "1. Create an account\n",
      "2. Login to existing accont\n",
      "3. Exit\n"
     ]
    },
    {
     "name": "stdin",
     "output_type": "stream",
     "text": [
      "Enter your choice:  2\n",
      "Enter your user_id:  1\n"
     ]
    },
    {
     "name": "stdout",
     "output_type": "stream",
     "text": [
      "This account does not exist!\n",
      "Invalid choice! Please try again.\n",
      "Welcome to Oops Banking system\n",
      "1. Create an account\n",
      "2. Login to existing accont\n",
      "3. Exit\n"
     ]
    },
    {
     "name": "stdin",
     "output_type": "stream",
     "text": [
      "Enter your choice:  2\n",
      "Enter your user_id:  deepu\n",
      "Enter your password: 1234\n"
     ]
    },
    {
     "name": "stdout",
     "output_type": "stream",
     "text": [
      "Login successful\n",
      "1. Deposit\n",
      "2. Withdrawal\n",
      "3. Log out\n"
     ]
    },
    {
     "name": "stdin",
     "output_type": "stream",
     "text": [
      "Choose your action:  1\n",
      "Enter amount to deposit:  123654789\n"
     ]
    },
    {
     "name": "stdout",
     "output_type": "stream",
     "text": [
      "Deposited amount: 123654789.0 , Current balance: 123704789.0\n",
      "1. Deposit\n",
      "2. Withdrawal\n",
      "3. Log out\n"
     ]
    },
    {
     "name": "stdin",
     "output_type": "stream",
     "text": [
      "Choose your action:  2\n",
      "Enter amount to withdraw:  1236547\n"
     ]
    },
    {
     "name": "stdout",
     "output_type": "stream",
     "text": [
      "Amount Withdrawn: 1236547.0, Current Balance: 122468242.0\n",
      "1. Deposit\n",
      "2. Withdrawal\n",
      "3. Log out\n"
     ]
    },
    {
     "name": "stdin",
     "output_type": "stream",
     "text": [
      "Choose your action:  3\n"
     ]
    },
    {
     "name": "stdout",
     "output_type": "stream",
     "text": [
      "Logged out!\n",
      "Welcome to Oops Banking system\n",
      "1. Create an account\n",
      "2. Login to existing accont\n",
      "3. Exit\n"
     ]
    },
    {
     "name": "stdin",
     "output_type": "stream",
     "text": [
      "Enter your choice:  2\n",
      "Enter your user_id:  deepu\n",
      "Enter your password: 2222\n"
     ]
    },
    {
     "name": "stdout",
     "output_type": "stream",
     "text": [
      "Invalid password\n",
      "Invalid choice! Please try again.\n",
      "Welcome to Oops Banking system\n",
      "1. Create an account\n",
      "2. Login to existing accont\n",
      "3. Exit\n"
     ]
    },
    {
     "name": "stdin",
     "output_type": "stream",
     "text": [
      "Enter your choice:  2\n",
      "Enter your user_id:  deepu\n",
      "Enter your password: 1234\n"
     ]
    },
    {
     "name": "stdout",
     "output_type": "stream",
     "text": [
      "Login successful\n",
      "1. Deposit\n",
      "2. Withdrawal\n",
      "3. Log out\n"
     ]
    },
    {
     "name": "stdin",
     "output_type": "stream",
     "text": [
      "Choose your action:  2\n",
      "Enter amount to withdraw:  2222\n"
     ]
    },
    {
     "name": "stdout",
     "output_type": "stream",
     "text": [
      "Amount Withdrawn: 2222.0, Current Balance: 122466020.0\n",
      "1. Deposit\n",
      "2. Withdrawal\n",
      "3. Log out\n"
     ]
    },
    {
     "name": "stdin",
     "output_type": "stream",
     "text": [
      "Choose your action:  3\n"
     ]
    },
    {
     "name": "stdout",
     "output_type": "stream",
     "text": [
      "Logged out!\n",
      "Welcome to Oops Banking system\n",
      "1. Create an account\n",
      "2. Login to existing accont\n",
      "3. Exit\n"
     ]
    },
    {
     "name": "stdin",
     "output_type": "stream",
     "text": [
      "Enter your choice:  3\n"
     ]
    },
    {
     "name": "stdout",
     "output_type": "stream",
     "text": [
      "Thank you for using the banking system. Goodbye!\n"
     ]
    }
   ],
   "source": [
    "class Bank_Account:\n",
    "    def __init__(self,user_id,password,balance = 0):\n",
    "        self.user_id = user_id\n",
    "        self.password = password\n",
    "        self.balance = balance\n",
    "\n",
    "    def login(self,password):\n",
    "        if self.password == password:\n",
    "            print(\"Login successful\")\n",
    "            return True\n",
    "        else:\n",
    "            print(\"Invalid password\")\n",
    "            return False\n",
    "\n",
    "    def deposit(self,amount):\n",
    "        if amount > 0:\n",
    "            self.balance += amount\n",
    "            print(f\"Deposited amount: {amount} , Current balance: {self.balance}\")\n",
    "        else:\n",
    "            print(\"Invalid deposit\")\n",
    "\n",
    "    def withdraw(self,amount):\n",
    "        if amount>0 and amount <= self.balance:\n",
    "            self.balance -= amount\n",
    "            print(f\"Amount Withdrawn: {amount}, Current Balance: {self.balance}\")\n",
    "        else:\n",
    "            print(\"You have no sufficient balance\")\n",
    "\n",
    "    \n",
    "accounts = {} \n",
    "\n",
    "def create_new_account():\n",
    "    user_id = input(\"Create your user_id: \")\n",
    "    if user_id in accounts:\n",
    "        print(\"User_id already exists! Try a different name for your account.\")\n",
    "        return None\n",
    "    \n",
    "    password = input(\"Create a password: \")\n",
    "    balance = float(input(\"Enter initial deposit (optional, default is 0): \") or 0)\n",
    "    new_user = Bank_Account(user_id, password, balance)\n",
    "    accounts[user_id] = new_user\n",
    "    print(f\"Account created successfully for {user_id}!\")\n",
    "    \n",
    "def login():\n",
    "    user_id = input(\"Enter your user_id: \")\n",
    "    if user_id in accounts:\n",
    "        user = accounts[user_id]\n",
    "        password = input(\"Enter your password:\")\n",
    "        if user.login(password):\n",
    "            return user\n",
    "    else:\n",
    "        print(\"This account does not exist!\")\n",
    "    return None \n",
    "    \n",
    "def main():\n",
    "    while True:\n",
    "        print(\"Welcome to Oops Banking system\")\n",
    "        print(\"1. Create an account\")\n",
    "        print(\"2. Login to existing accont\")\n",
    "        print(\"3. Exit\")\n",
    "        num = int(input(\"Enter your choice: \"))\n",
    "        if num == 1:\n",
    "            create_new_account()\n",
    "        elif num == 2:\n",
    "            user = login()\n",
    "            if user:\n",
    "                while True:\n",
    "                    print(\"1. Deposit\")\n",
    "                    print(\"2. Withdrawal\")\n",
    "                    print(\"3. Log out\")\n",
    "                    num1 = int(input(\"Choose your action: \"))\n",
    "                    if num1 == 1:\n",
    "                        amount = float(input(\"Enter amount to deposit: \"))\n",
    "                        user.deposit(amount)\n",
    "                    elif num1 == 2:\n",
    "                        amount = float(input(\"Enter amount to withdraw: \"))\n",
    "                        user.withdraw(amount)\n",
    "                    elif num1 == 3:\n",
    "                        print(\"Logged out!\")\n",
    "                        break\n",
    "            else:\n",
    "                print(\"Invalid choice! Please try again.\")\n",
    "        elif num == 3:\n",
    "            print(\"Thank you for using the banking system. Goodbye!\")\n",
    "            break\n",
    "        else:\n",
    "            print(\"Invalid choice\")\n",
    "\n",
    "main()"
   ]
  },
  {
   "cell_type": "code",
   "execution_count": null,
   "id": "848275c7-638d-4401-8ab0-aa41bdb2924a",
   "metadata": {},
   "outputs": [],
   "source": []
  }
 ],
 "metadata": {
  "kernelspec": {
   "display_name": "Python 3 (ipykernel)",
   "language": "python",
   "name": "python3"
  },
  "language_info": {
   "codemirror_mode": {
    "name": "ipython",
    "version": 3
   },
   "file_extension": ".py",
   "mimetype": "text/x-python",
   "name": "python",
   "nbconvert_exporter": "python",
   "pygments_lexer": "ipython3",
   "version": "3.12.4"
  }
 },
 "nbformat": 4,
 "nbformat_minor": 5
}
